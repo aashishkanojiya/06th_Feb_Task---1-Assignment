{
  "nbformat": 4,
  "nbformat_minor": 0,
  "metadata": {
    "colab": {
      "provenance": []
    },
    "kernelspec": {
      "name": "python3",
      "display_name": "Python 3"
    },
    "language_info": {
      "name": "python"
    }
  },
  "cells": [
    {
      "cell_type": "markdown",
      "source": [
        "Q1. Create a function which will take a list as an argument and return the product of all the numbers\n",
        "after creating a flat list.\n",
        "\n",
        "Use the below-given list as an argument for your function.\n",
        "list1 = [1,2,3,4, [44,55,66, True], False, (34,56,78,89,34), {1,2,3,3,2,1}, {1:34, \"key2\": [55, 67, 78, 89], 4: (45,\n",
        "22, 61, 34)}, [56, 'data science'], 'Machine Learning']\n",
        "\n",
        "Note: you must extract numeric keys and values of the dictionary also."
      ],
      "metadata": {
        "id": "VchQ3wHts_Ht"
      }
    },
    {
      "cell_type": "markdown",
      "source": [
        "Answer:-  I have used below approach to solve this problem\n",
        "\n",
        "1.Create a blank list l for initialization\n",
        "\n",
        "2.if values are int and float then append the element\n",
        "\n",
        "3.if values are list extend use l.extend to extend the list\n",
        "\n",
        "4.if values are tuple and set , typecast into list and extend the list\n",
        "\n",
        "5.if values are dictionary , append dict.keys and check dict.values into the list apply for loop for dictionary as well\n",
        "\n",
        "6.Now we have the list with all values from this we need to filter int and float from this list again for this we can use filter function and lambda function to filter numeric values\n",
        "\n",
        "7.Use reduce function to find product of all numeric values added\n"
      ],
      "metadata": {
        "id": "7GGs9pcVtF9G"
      }
    },
    {
      "cell_type": "code",
      "source": [
        "from functools import reduce\n",
        "\n",
        "def flat_and_product(lst):\n",
        "    \"\"\"\n",
        "    This function takes a list extracts all numeric values from it including dictionary keys , values\n",
        "    and returns the product of numeric values as result\n",
        "    \"\"\"\n",
        "    l = [] #Initialize Blank List\n",
        "\n",
        "    # Using for loop to iterate through\n",
        "    for i in lst:\n",
        "        # If type of element integer or float then append into list\n",
        "        if type(i)==int or type(i)==float:\n",
        "            l.append(i)\n",
        "\n",
        "        # If type of element list then extend the list l\n",
        "        elif type(i)==list:\n",
        "            l.extend(i)\n",
        "\n",
        "        # If type of element tuple or sets then typecast and extend the list l\n",
        "        elif type(i)==tuple or type(i)==set:\n",
        "            l.extend(list(i))\n",
        "\n",
        "        # If type of element is dictionary then extend keys and values into the list l iterate through key and value and extend them\n",
        "        elif type(i)==dict:\n",
        "            for key, value in i.items():\n",
        "                l.append(key)\n",
        "\n",
        "                # Checking types of values and performing similar operations\n",
        "                if type(value)==int or type(value)==float:\n",
        "                    l.append(value)\n",
        "                elif type(value)==list:\n",
        "                    l.extend(value)\n",
        "                elif type(value)==tuple or type(value)==set:\n",
        "                    l.extend(list(value))\n",
        "            # For block for dictionary completed\n",
        "\n",
        "        # Main For block is completed\n",
        "\n",
        "    # Print orignal list\n",
        "    print('Orignal List given : ',lst)\n",
        "    print('*****************************')\n",
        "\n",
        "    # Print list before filtering numeric values inside\n",
        "    print('\\nFlat List before filtering numeric values inside nested structures : ',l)\n",
        "    print('*****************************')\n",
        "\n",
        "    # Apply Filter function and lambda to filter numeric values only\n",
        "    filter_l = list(filter(lambda x: type(x)==int or type(x)==float,l))\n",
        "    print('\\nFlat List after filtering numeric values only : ',filter_l)\n",
        "    print('*****************************')\n",
        "\n",
        "    # Apply Reduce function to get product from the filtered list\n",
        "    product = reduce(lambda x,y : x*y, filter_l)\n",
        "\n",
        "    return product"
      ],
      "metadata": {
        "id": "sIU61gujuUMn"
      },
      "execution_count": 1,
      "outputs": []
    },
    {
      "cell_type": "code",
      "source": [
        "# Using the function to get product\n",
        "list1 = [1,2,3,4, [44,55,66, True], False, (34,56,78,89,34), {1,2,3,3,2,1}, {1:34, \"key2\": [55, 67, 78, 89], 4: (45,22, 61, 34)}, [56, 'data science'], 'Machine Learning']\n",
        "flat_and_product(list1)"
      ],
      "metadata": {
        "colab": {
          "base_uri": "https://localhost:8080/"
        },
        "id": "MnQTIKNFukdl",
        "outputId": "9d9a8d7e-4518-4130-dd8f-8bfededf2f3d"
      },
      "execution_count": 2,
      "outputs": [
        {
          "output_type": "stream",
          "name": "stdout",
          "text": [
            "Orignal List given :  [1, 2, 3, 4, [44, 55, 66, True], False, (34, 56, 78, 89, 34), {1, 2, 3}, {1: 34, 'key2': [55, 67, 78, 89], 4: (45, 22, 61, 34)}, [56, 'data science'], 'Machine Learning']\n",
            "*****************************\n",
            "\n",
            "Flat List before filtering numeric values inside nested structures :  [1, 2, 3, 4, 44, 55, 66, True, 34, 56, 78, 89, 34, 1, 2, 3, 1, 34, 'key2', 55, 67, 78, 89, 4, 45, 22, 61, 34, 56, 'data science']\n",
            "*****************************\n",
            "\n",
            "Flat List after filtering numeric values only :  [1, 2, 3, 4, 44, 55, 66, 34, 56, 78, 89, 34, 1, 2, 3, 1, 34, 55, 67, 78, 89, 4, 45, 22, 61, 34, 56]\n",
            "*****************************\n"
          ]
        },
        {
          "output_type": "execute_result",
          "data": {
            "text/plain": [
              "4134711838987085478833841242112000"
            ]
          },
          "metadata": {},
          "execution_count": 2
        }
      ]
    },
    {
      "cell_type": "markdown",
      "source": [
        "Q2. Write a python program for encrypting a message sent to you by your friend. The logic of encryption\n",
        "should be such that, for a the output should be z. For b, the output should be y. For c, the output should\n",
        "be x respectively. Also, the whitespace should be replaced with a dollar sign. Keep the punctuation\n",
        "marks unchanged.\n",
        "\n",
        "Input Sentence: I want to become a Data Scientist.\n",
        "Encrypt the above input sentence using the program you just created.\n",
        "\n",
        "Note: Convert the given input sentence into lowercase before encrypting. The final output should be\n",
        "lowercase."
      ],
      "metadata": {
        "id": "iL7ww0fPuqaZ"
      }
    },
    {
      "cell_type": "markdown",
      "source": [
        "Answer:-"
      ],
      "metadata": {
        "id": "M-VK0D00uvum"
      }
    },
    {
      "cell_type": "code",
      "source": [
        "def encrypt(sentence):\n",
        "  sentence = sentence.lower()\n",
        "  encryption = {}\n",
        "  for i in range(26):\n",
        "    encryption[chr(i + ord('a'))] = chr((25 - i) + ord('a'))\n",
        "  encryption[' '] = '$'\n",
        "  encrypted_sentence = ''\n",
        "  for char in sentence:\n",
        "    if char in encryption:\n",
        "      encrypted_sentence += encryption[char]\n",
        "    else:\n",
        "      encrypted_sentence += char\n",
        "  return encrypted_sentence\n",
        "\n",
        "sentence = \"I want to become a Data Scientist.\"\n",
        "encrypted_sentence = encrypt(sentence)\n",
        "print(\"Encrypted sentence:\", encrypted_sentence)"
      ],
      "metadata": {
        "colab": {
          "base_uri": "https://localhost:8080/"
        },
        "id": "zY28XoZCvsOL",
        "outputId": "21fbd298-a32d-4a6a-b515-c6cdf9776a62"
      },
      "execution_count": 3,
      "outputs": [
        {
          "output_type": "stream",
          "name": "stdout",
          "text": [
            "Encrypted sentence: r$dzmg$gl$yvxlnv$z$wzgz$hxrvmgrhg.\n"
          ]
        }
      ]
    }
  ]
}